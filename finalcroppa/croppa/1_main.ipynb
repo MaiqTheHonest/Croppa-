{
 "cells": [
  {
   "cell_type": "code",
   "execution_count": 1,
   "metadata": {},
   "outputs": [
    {
     "data": {
      "application/vnd.jupyter.widget-view+json": {
       "model_id": "2bc72987fcd04216808061cda2321040",
       "version_major": 2,
       "version_minor": 0
      },
      "text/plain": [
       "Map(center=[46.27655457984888, -119.64925949840735], controls=(ZoomControl(options=['position', 'zoom_in_text'…"
      ]
     },
     "metadata": {},
     "output_type": "display_data"
    },
    {
     "data": {
      "application/vnd.jupyter.widget-view+json": {
       "model_id": "7a11e5d64cec41e1bf732a237111f655",
       "version_major": 2,
       "version_minor": 0
      },
      "text/plain": [
       "Button(description=\"That's my land!\", style=ButtonStyle())"
      ]
     },
     "metadata": {},
     "output_type": "display_data"
    }
   ],
   "source": [
    "from ipyleaflet import Map, basemaps, TileLayer\n",
    "from ipywidgets import Layout, widgets\n",
    "import time\n",
    "import json\n",
    "import os\n",
    "\n",
    "\n",
    "lat_center, lon_center = 46.27655457984888, -119.64925949840735\n",
    "\n",
    "m = Map(center=(lat_center, lon_center), zoom=12, scroll_wheel_zoom=True, layout=Layout(width='600px', height='600px'))\n",
    "\n",
    "google_maps_layer = TileLayer(\n",
    "    url=\"http://mt1.google.com/vt/lyrs=s&x={x}&y={y}&z={z}\",\n",
    "    attribution=\"&copy; <a href='https://www.google.com/intl/en_us/help/terms_maps.html'>Google Maps</a>\"\n",
    ")\n",
    "m.layers = [google_maps_layer]\n",
    "\n",
    "def handle_interaction(**kwargs):\n",
    "    global exp_zoom, exp_center, exp_box\n",
    "    exp_zoom = m.zoom\n",
    "    exp_center = m.center\n",
    "    exp_box = m.bounds\n",
    "\n",
    "m.on_interaction(handle_interaction)\n",
    "\n",
    "display(m)\n",
    "\n",
    "\n",
    "import subprocess\n",
    "import ipywidgets as widgets\n",
    "from IPython.display import display\n",
    "\n",
    "def run_mapFetch(ev):\n",
    "    with open('geodata.json', 'w') as file:\n",
    "        data = [exp_zoom, exp_center, exp_box]\n",
    "        json.dump(data, file)\n",
    "    print(\"Loading data...\")\n",
    "    time.sleep(3)\n",
    "\n",
    "    subprocess.run(['python', 'mapFetch.py'], check=True)\n",
    "\n",
    "\n",
    "    print(\"\\nData loaded, you can now close the editor\")\n",
    "\n",
    "    current_dir = os.getcwd()\n",
    "    parent_dir = os.path.abspath(os.path.join(current_dir, \"..\"))\n",
    "    exe_path = os.path.join(parent_dir, 'finalcroppa.console.exe')\n",
    "    #subprocess.run([exe_path])\n",
    "\n",
    "\n",
    "\n",
    "button = widgets.Button(description=\"That's my land!\")\n",
    "button.on_click(run_mapFetch)\n",
    "display(button)\n",
    "\n"
   ]
  }
 ],
 "metadata": {
  "kernelspec": {
   "display_name": "Python 3",
   "language": "python",
   "name": "python3"
  },
  "language_info": {
   "codemirror_mode": {
    "name": "ipython",
    "version": 3
   },
   "file_extension": ".py",
   "mimetype": "text/x-python",
   "name": "python",
   "nbconvert_exporter": "python",
   "pygments_lexer": "ipython3",
   "version": "3.8.1"
  }
 },
 "nbformat": 4,
 "nbformat_minor": 2
}
